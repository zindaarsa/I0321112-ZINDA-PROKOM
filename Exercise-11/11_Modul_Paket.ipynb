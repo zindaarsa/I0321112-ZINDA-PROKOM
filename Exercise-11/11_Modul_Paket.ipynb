{
 "cells": [
  {
   "cell_type": "markdown",
   "metadata": {},
   "source": [
    "***\n",
    "<h1 align=\"center\">Exercise 11</h1>\n",
    " \n",
    "***\n",
    "## Membuat Modul\n",
    "Silakan perhatikan file **Geometri2D** di ./data. \n",
    "Kemudian buatlah kode seperti berikut:\n",
    "\n",
    "![](./images/11_Geometri2D.png)\n"
   ]
  },
  {
   "cell_type": "markdown",
   "metadata": {},
   "source": [
    "## Perintah Import \n",
    "Buatlah kode seperti berikut:\n",
    "\n",
    "![](./images/11_Import.png)\n",
    "\n",
    "Ubah variabel **p** dengan **3 digit nim terakhir kalian** dan variabel **l** dengan **tanggal kalian mengerjakan**."
   ]
  },
  {
   "cell_type": "code",
   "execution_count": null,
   "metadata": {},
   "outputs": [],
   "source": [
    "# Kerjakan di sini\n"
   ]
  },
  {
   "cell_type": "markdown",
   "metadata": {},
   "source": [
    "## Perintah From...Import \n",
    "Buatlah kode seperti berikut:\n",
    "\n",
    "![](./images/11_FromImport.png)\n",
    "\n",
    "Ubah variabel **p** dengan **3 digit nim terakhir kalian** dan variabel **l** dengan **tanggal kalian mengerjakan**."
   ]
  },
  {
   "cell_type": "code",
   "execution_count": null,
   "metadata": {},
   "outputs": [],
   "source": [
    "# Kerjakan di sini\n"
   ]
  },
  {
   "cell_type": "markdown",
   "metadata": {},
   "source": [
    "## Membuat Alias/Nama Lain Modul \n",
    "### 1. Nama Modul\n",
    "Buatlah kode seperti berikut:\n",
    "\n",
    "![](./images/11_Alias.png)\n",
    "\n",
    "Ubah variabel **p** dengan **3 digit nim terakhir kalian** dan variabel **l** dengan **tanggal kalian mengerjakan**."
   ]
  },
  {
   "cell_type": "code",
   "execution_count": null,
   "metadata": {},
   "outputs": [],
   "source": [
    "# Kerjakan di sini\n"
   ]
  },
  {
   "cell_type": "markdown",
   "metadata": {},
   "source": [
    "### 2. Nama Fungsi\n",
    "Buatlah kode seperti berikut:\n",
    "\n",
    "![](./images/11_Alias2.png)\n",
    "\n",
    "Ubah variabel **p** dengan **3 digit nim terakhir kalian** dan variabel **l** dengan **tanggal kalian mengerjakan**."
   ]
  },
  {
   "cell_type": "code",
   "execution_count": null,
   "metadata": {},
   "outputs": [],
   "source": [
    "# Kerjakan di sini\n"
   ]
  },
  {
   "cell_type": "markdown",
   "metadata": {},
   "source": [
    "## Membuat Paket \n",
    "Silakan perhatikan file **__init__.py** di ./Data.\n",
    "Kemudian isikan kode berikut ke dalam file **__init__.py**:\n",
    "\n",
    "![](./images/11_init.png)\n"
   ]
  },
  {
   "cell_type": "markdown",
   "metadata": {},
   "source": [
    "## Menggunakan Paket\n",
    "Buatlah kode seperti berikut:\n",
    "\n",
    "![](./images/11_Paket.png)\n",
    "\n",
    "Ubah variabel **sisi** dengan **tanggal kalian mengerjakan**."
   ]
  },
  {
   "cell_type": "code",
   "execution_count": null,
   "metadata": {},
   "outputs": [],
   "source": [
    "# Kerjakan di sini\n"
   ]
  },
  {
   "cell_type": "markdown",
   "metadata": {},
   "source": [
    "***\n",
    "<h1 align=\"center\">Well Done!!!</h1>\n",
    "\n",
    "***"
   ]
  }
 ],
 "metadata": {
  "interpreter": {
   "hash": "aaa2d32309aa7ce0f397d0e81903e050bd163767a22d0d109bd73d79b6cf4dfe"
  },
  "kernelspec": {
   "display_name": "Python 3.10.2 64-bit",
   "language": "python",
   "name": "python3"
  },
  "language_info": {
   "codemirror_mode": {
    "name": "ipython",
    "version": 3
   },
   "file_extension": ".py",
   "mimetype": "text/x-python",
   "name": "python",
   "nbconvert_exporter": "python",
   "pygments_lexer": "ipython3",
   "version": "3.10.2"
  },
  "orig_nbformat": 4
 },
 "nbformat": 4,
 "nbformat_minor": 2
}
