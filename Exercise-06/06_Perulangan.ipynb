{
 "cells": [
  {
   "cell_type": "markdown",
   "metadata": {},
   "source": [
    "***\n",
    "<h1 align=\"center\">Exercise 06</h1>\n",
    " \n",
    "***\n",
    "## While Loop\n",
    "## Exercise 6.1\n",
    "isilah bagian rumpang berikut. xx diganti tanggal lahir dan yy diganti menjadi bulan lahir. tandanya menyesuaikan yang lebih besar."
   ]
  },
  {
   "cell_type": "code",
   "execution_count": 1,
   "metadata": {},
   "outputs": [
    {
     "name": "stdout",
     "output_type": "stream",
     "text": [
      "Dreams dont work unless you do\n",
      "Dreams dont work unless you do\n",
      "Dreams dont work unless you do\n",
      "Dreams dont work unless you do\n",
      "Dreams dont work unless you do\n",
      "Dreams dont work unless you do\n",
      "Dreams dont work unless you do\n",
      "Dreams dont work unless you do\n",
      "Dreams dont work unless you do\n",
      "Dreams dont work unless you do\n",
      "Dreams dont work unless you do\n",
      "Dreams dont work unless you do\n",
      "Dreams dont work unless you do\n",
      "Dreams dont work unless you do\n",
      "Dreams dont work unless you do\n",
      "Dreams dont work unless you do\n",
      "Dreams dont work unless you do\n",
      "Dreams dont work unless you do\n",
      "Dreams dont work unless you do\n",
      "Dreams dont work unless you do\n"
     ]
    }
   ],
   "source": [
    "#menentukan banyak pengulangan\n",
    "n = 31\n",
    "\n",
    "#melakukan pengulangan\n",
    "i = 12\n",
    "\n",
    "while i <= n :\n",
    "    print (\"Dreams dont work unless you do\")\n",
    "    i = i + 1 # sesuaikan dengan atas agar fungsi perulangan dapat berhenti\n"
   ]
  },
  {
   "cell_type": "markdown",
   "metadata": {},
   "source": [
    "## Exercise 6.2\n",
    "\n",
    "Buatlah code seperti yang dicontohkan pada modul agar user dapat menginputkan sendiri jumlah n yang diinginkan"
   ]
  },
  {
   "cell_type": "code",
   "execution_count": 3,
   "metadata": {},
   "outputs": [
    {
     "name": "stdout",
     "output_type": "stream",
     "text": [
      "1\n",
      "2\n",
      "3\n",
      "4\n",
      "5\n",
      "6\n",
      "7\n",
      "8\n",
      "9\n",
      "10\n"
     ]
    }
   ],
   "source": [
    "#Kerjakan disini\n",
    "n = int(input(\"Masukkan nilai n: \"))\n",
    "i = 1\n",
    "\n",
    "while i <= n:\n",
    "    print (i)\n",
    "    i = i + 1"
   ]
  },
  {
   "cell_type": "markdown",
   "metadata": {},
   "source": [
    "## Excercise 6.3\n",
    "\n",
    "isilah xx, yy, dan tanda rumpang seperti pada exercise 6.1\n"
   ]
  },
  {
   "cell_type": "code",
   "execution_count": 14,
   "metadata": {},
   "outputs": [
    {
     "name": "stdout",
     "output_type": "stream",
     "text": [
      "Baris ke-31 : Doraemon\n",
      "Baris ke-30 : Doraemon\n",
      "Baris ke-29 : Doraemon\n",
      "Baris ke-28 : Doraemon\n",
      "Baris ke-27 : Doraemon\n",
      "Baris ke-26 : Doraemon\n",
      "Baris ke-25 : Doraemon\n",
      "Baris ke-24 : Doraemon\n",
      "Baris ke-23 : Doraemon\n",
      "Baris ke-22 : Doraemon\n",
      "Baris ke-21 : Doraemon\n",
      "Baris ke-20 : Doraemon\n",
      "Baris ke-19 : Doraemon\n",
      "Baris ke-18 : Doraemon\n",
      "Baris ke-17 : Doraemon\n",
      "Baris ke-16 : Doraemon\n",
      "Baris ke-15 : Doraemon\n",
      "Baris ke-14 : Doraemon\n",
      "Baris ke-13 : Doraemon\n",
      "Baris ke-12 : Doraemon\n"
     ]
    }
   ],
   "source": [
    "#melakukan pengulangan\n",
    "i = 31\n",
    "\n",
    "while i >= 12 :\n",
    "    print (\"Baris ke-%d : Doraemon\"%i)\n",
    "    #isi titik-titik dengan judul film favorit kalian\n",
    "    i = i - 1 "
   ]
  },
  {
   "cell_type": "markdown",
   "metadata": {},
   "source": [
    "## FOR LOOP\n",
    "\n",
    "## Exercise 6.4\n",
    "\n",
    "munculkan 3 dari 7 elemen yang berada di dalam list1 dan list2\n"
   ]
  },
  {
   "cell_type": "code",
   "execution_count": 18,
   "metadata": {},
   "outputs": [
    {
     "name": "stdout",
     "output_type": "stream",
     "text": [
      "3 Bubur Jakarta Selatan\n",
      "4 Pizza Jakarta Utara\n",
      "5 Martabak Surakarta\n"
     ]
    }
   ],
   "source": [
    "list1 = [\"Ayam bakar\", \"Steak\", \"Bubur\", \"Pizza\", \"Martabak\", \"Kebab\", \"Nasi goreng\"] #masukkan 7 list makanan favorit kalian\n",
    "list2 = [\"Jakarta Timur\", \"Jakarta Barat\", \"Jakarta Selatan\", \"Jakarta Utara\", \"Surakarta\", \"Bekasi\", \"Bandung\"] #masukkan 7 list kota favorit kalian\n",
    "\n",
    "for i in range(2,5) :\n",
    "    print(i+1, list1[i] , list2[i])"
   ]
  },
  {
   "cell_type": "markdown",
   "metadata": {},
   "source": [
    "## Perulangan Bersarang\n",
    "\n",
    "## Exercise 6.5"
   ]
  },
  {
   "cell_type": "code",
   "execution_count": 30,
   "metadata": {},
   "outputs": [
    {
     "name": "stdout",
     "output_type": "stream",
     "text": [
      "961 \n",
      "\n",
      "\n",
      "\n",
      "\n",
      "\n",
      "\n",
      "\n",
      "\n",
      "\n",
      "\n",
      "\n",
      "\n",
      "\n",
      "\n",
      "\n",
      "\n",
      "\n",
      "\n",
      "\n"
     ]
    }
   ],
   "source": [
    "i = 31\n",
    "while i >= 12:\n",
    "    j = 31\n",
    "    while j <= i:\n",
    "        print(\"%d \" % (i*j), end = '')\n",
    "        j = j + 1\n",
    "    print()\n",
    "    i-=1"
   ]
  },
  {
   "cell_type": "markdown",
   "metadata": {},
   "source": [
    "## Pernyataan Loncat\n",
    "\n",
    "## Exercise 6.\n",
    "\n",
    "Buatlah fungsi berikut agar muncul angka hingga berhenti sesuai dengan nilai qq\n",
    "qq = angka favorit kalian\n",
    "pp>qq"
   ]
  },
  {
   "cell_type": "code",
   "execution_count": 34,
   "metadata": {},
   "outputs": [
    {
     "name": "stdout",
     "output_type": "stream",
     "text": [
      "0123456789101112131415"
     ]
    }
   ],
   "source": [
    "for i in range(20):\n",
    "    print(i,end='')\n",
    "    if i == 15:\n",
    "        break"
   ]
  },
  {
   "cell_type": "markdown",
   "metadata": {},
   "source": [
    "***\n",
    "<h1 align=\"center\">WELL DONE</h1>\n",
    " \n",
    "***"
   ]
  }
 ],
 "metadata": {
  "interpreter": {
   "hash": "cd08f94adcf3cbae37fe85286256f4c2a10455ca9094fd053e9f3d3f09647223"
  },
  "kernelspec": {
   "display_name": "Python 3.9.7 64-bit",
   "language": "python",
   "name": "python3"
  },
  "language_info": {
   "codemirror_mode": {
    "name": "ipython",
    "version": 3
   },
   "file_extension": ".py",
   "mimetype": "text/x-python",
   "name": "python",
   "nbconvert_exporter": "python",
   "pygments_lexer": "ipython3",
   "version": "3.9.7"
  },
  "orig_nbformat": 4
 },
 "nbformat": 4,
 "nbformat_minor": 2
}
