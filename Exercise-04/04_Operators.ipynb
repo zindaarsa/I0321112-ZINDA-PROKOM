{
 "cells": [
  {
   "cell_type": "markdown",
   "metadata": {},
   "source": [
    "***\n",
    "<h1 align=\"center\">Exercise 04</h1>\n",
    " \n",
    "***\n",
    "## Operator Aritmetika\n",
    "Buatlah kode seperti berikut:\n",
    "![](./images/04_operatorAritmetika.png)\n",
    "Ubah variabel **x** dengan **3 digit terakhir nim kalian** dan ubah variabel **y** dengan **tanggal kalian mengerjakan**."
   ]
  },
  {
   "cell_type": "code",
   "execution_count": 3,
   "metadata": {},
   "outputs": [
    {
     "name": "stdout",
     "output_type": "stream",
     "text": [
      "x + y = 113\n",
      "x - y = 111\n",
      "x * y = 112\n",
      "x / y = 112.0\n",
      "x // y = 112\n",
      "x ** y = 112\n"
     ]
    }
   ],
   "source": [
    "# Kerjakan disini\n",
    "\n",
    "# Jangan hapus kode di bawah ini \n",
    "%reset -f\n",
    "\n",
    "x = 112\n",
    "y = 1\n",
    "\n",
    "print('x + y =', x+y)\n",
    "print('x - y =', x-y)\n",
    "print('x * y =', x*y)\n",
    "print('x / y =', x/y)\n",
    "print('x // y =', x//y)\n",
    "print('x ** y =', x**y)\n"
   ]
  },
  {
   "cell_type": "markdown",
   "metadata": {},
   "source": [
    "## Operator Relasional/*Comparison*\n",
    "Buatlah kode seperti berikut dan jalankan!\n",
    "![](./images/04_operatorRelasional.png)\n"
   ]
  },
  {
   "cell_type": "code",
   "execution_count": 2,
   "metadata": {},
   "outputs": [
    {
     "name": "stdout",
     "output_type": "stream",
     "text": [
      "x > y is False\n",
      "x < y is True\n",
      "x == y is False\n",
      "x != y is True\n",
      "x >= y is False\n",
      "x <= y is True\n"
     ]
    }
   ],
   "source": [
    "# Kerjakan disini\n",
    "\n",
    "# Jangan hapus kode di bawah ini \n",
    "%reset -f\n",
    "\n",
    "x = 15\n",
    "x = 10\n",
    "y = 12\n",
    "\n",
    "print('x > y is', x>y)\n",
    "print('x < y is', x<y)\n",
    "print('x == y is', x==y)\n",
    "print('x != y is', x!=y)\n",
    "print('x >= y is', x>=y)\n",
    "print('x <= y is', x<=y)"
   ]
  },
  {
   "cell_type": "markdown",
   "metadata": {},
   "source": [
    "## Operator Logika\n",
    "Lengkapi kode program yang rumpang dibawah!\n"
   ]
  },
  {
   "cell_type": "code",
   "execution_count": 6,
   "metadata": {},
   "outputs": [
    {
     "name": "stdout",
     "output_type": "stream",
     "text": [
      "x > 5 and 10 < y is True\n",
      "x or y more than or equal to 10 is True\n",
      "x or y not more than or equal to 10 is False\n"
     ]
    }
   ],
   "source": [
    "x = 7\n",
    "y = 20\n",
    "print('x > 5 and 10 < y is',x>5 and 10 < y) \n",
    "print('x or y more than or equal to 10 is', x>=10 or y>=10)\n",
    "print('x or y not more than or equal to 10 is',not(x>=10 or y>=10))\n",
    "\n",
    "%reset -f"
   ]
  },
  {
   "cell_type": "markdown",
   "metadata": {},
   "source": [
    "## Operator String\n",
    "\n",
    "### 1. Concat strings\n",
    "Buat kode program pada cell selanjutnya seperti contoh berikut ini dengan mengubah variabel **str1** dengan nama depan kalian dan **str2** dengan nama belakang kalian!\n",
    "![](./images/04_concatStrings.png)"
   ]
  },
  {
   "cell_type": "code",
   "execution_count": 7,
   "metadata": {},
   "outputs": [
    {
     "name": "stdout",
     "output_type": "stream",
     "text": [
      "Zinda Rud Sirr Amisesa\n"
     ]
    }
   ],
   "source": [
    "# Kerjakan disini\n",
    "\n",
    "# Jangan hapus kode di bawah ini \n",
    "%reset -f\n",
    "\n",
    "# strings\n",
    "str1 = \"Zinda Rud\"\n",
    "str2 = \"Sirr Amisesa\"\n",
    "\n",
    "# concat\n",
    "result = str1 + \" \" + str2\n",
    "\n",
    "#output\n",
    "print(result)"
   ]
  },
  {
   "cell_type": "markdown",
   "metadata": {},
   "source": [
    "### 2. Replikasi strings\n",
    "Buat kode program pada cell selanjutnya seperti contoh berikut ini!\n",
    "![](./images/04_replikasiStrings.png)"
   ]
  },
  {
   "cell_type": "code",
   "execution_count": 8,
   "metadata": {},
   "outputs": [
    {
     "name": "stdout",
     "output_type": "stream",
     "text": [
      "WKWKWK\n"
     ]
    }
   ],
   "source": [
    "# Kerjakan disini\n",
    "\n",
    "# Jangan hapus kode di bawah ini \n",
    "%reset -f\n",
    "\n",
    "str = \"WK\"\n",
    "# replicate\n",
    "result = str * 3\n",
    "# output\n",
    "print(result)"
   ]
  },
  {
   "cell_type": "markdown",
   "metadata": {},
   "source": [
    "### 3. Pengecekan membership– in\n",
    "Buat kode program pada cell selanjutnya seperti contoh berikut ini!\n",
    "![](./images/04_pengecekanMembership-in.png)\n",
    "Kemudian jalankan program yang telah dibuat."
   ]
  },
  {
   "cell_type": "code",
   "execution_count": 9,
   "metadata": {},
   "outputs": [
    {
     "name": "stdout",
     "output_type": "stream",
     "text": [
      "lo is present in the string Hello World\n"
     ]
    }
   ],
   "source": [
    "# Kerjakan disini\n",
    "\n",
    "# Jangan hapus kode di bawah ini \n",
    "%reset -f\n",
    "\n",
    "# strings\n",
    "needle = \"lo\"\n",
    "haystack = \"Hello World\"\n",
    "# check\n",
    "if needle in haystack:\n",
    "    print(needle, \"is present in the string\", haystack)\n",
    "else:\n",
    "    print(\"Not found\")"
   ]
  },
  {
   "cell_type": "markdown",
   "metadata": {},
   "source": [
    "### 4. Checking membership - not in\n",
    "Buat kode program pada cell selanjutnya seperti contoh berikut ini!\n",
    "![](./images/04_pengecekanMembership-out.png)\n",
    "Kemudian jalankan program yang dibuat."
   ]
  },
  {
   "cell_type": "code",
   "execution_count": 10,
   "metadata": {},
   "outputs": [
    {
     "name": "stdout",
     "output_type": "stream",
     "text": [
      "Not found\n"
     ]
    }
   ],
   "source": [
    "# Kerjakan disini\n",
    "\n",
    "# Jangan hapus kode di bawah ini \n",
    "%reset -f\n",
    "\n",
    "# strings\n",
    "needle = \"HA\"\n",
    "haystack = \"Hello World\"\n",
    "# check\n",
    "if needle in haystack:\n",
    "    print(needle, \"is present in the string\", haystack)\n",
    "else:\n",
    "    print(\"Not found\")"
   ]
  },
  {
   "cell_type": "markdown",
   "metadata": {},
   "source": [
    "### 5. Mengakses karakter dalam string\n",
    "Buat kode program pada cell selanjutnya seperti contoh berikut ini dengan mengubah variabel **str** dengan nama depan kalian!\n",
    "![](./images/04_mengaksesString.png)\n",
    "Kemudian jalankan program yang dibuat."
   ]
  },
  {
   "cell_type": "code",
   "execution_count": 11,
   "metadata": {},
   "outputs": [
    {
     "name": "stdout",
     "output_type": "stream",
     "text": [
      "i\n"
     ]
    }
   ],
   "source": [
    "# Kerjakan disini\n",
    "\n",
    "# Jangan hapus kode di bawah ini \n",
    "%reset -f\n",
    "\n",
    "# string\n",
    "str = \"Zinda\"\n",
    "# character\n",
    "ch = str[1]\n",
    "#output\n",
    "print(ch)"
   ]
  },
  {
   "cell_type": "markdown",
   "metadata": {},
   "source": [
    "### 6. Substring\n",
    "Berdasarkan contoh di bawah, buatlah program yang memberi output **3** huruf terakhir dari **nama depan** kalian!\n",
    "![](./images/04_substring.png)\n",
    "Kemudian jalankan program yang dibuat."
   ]
  },
  {
   "cell_type": "code",
   "execution_count": 23,
   "metadata": {},
   "outputs": [
    {
     "name": "stdout",
     "output_type": "stream",
     "text": [
      "nda\n"
     ]
    }
   ],
   "source": [
    "# Kerjakan disini\n",
    "\n",
    "# Jangan hapus kode di bawah ini \n",
    "%reset -f\n",
    "\n",
    "# string\n",
    "str = \"Zinda\"\n",
    "# substring\n",
    "substr = str[2:6]\n",
    "# output\n",
    "print(substr)"
   ]
  },
  {
   "cell_type": "markdown",
   "metadata": {},
   "source": [
    "### 7. Skipping characters\n",
    "Berdasarkan contoh di bawah, buatlah program yang memberi output substring berindeks ganjil dari string **nama kota asal kalian**!\n",
    "![](./images/04_skipping.png)\n",
    "Kemudian jalankan program yang dibuat."
   ]
  },
  {
   "cell_type": "code",
   "execution_count": 24,
   "metadata": {},
   "outputs": [
    {
     "name": "stdout",
     "output_type": "stream",
     "text": [
      "Jkra\n"
     ]
    }
   ],
   "source": [
    "# Kerjakan disini\n",
    "\n",
    "# Jangan hapus kode di bawah ini \n",
    "%reset -f\n",
    "\n",
    "string:  \"Jakarta\"\n",
    "str = \"Jakarta\"\n",
    "new_str = str[0::2]\n",
    "print(new_str) "
   ]
  },
  {
   "cell_type": "markdown",
   "metadata": {},
   "source": [
    "### 8. Reverse string\n",
    "Berdasarkan contoh di bawah, buatlah program yang membalikkan string **nama kota asal kalian**!\n",
    "![](./images/04_reverse.png)\n",
    "Kemudian jalankan program yang dibuat."
   ]
  },
  {
   "cell_type": "code",
   "execution_count": 25,
   "metadata": {},
   "outputs": [
    {
     "name": "stdout",
     "output_type": "stream",
     "text": [
      "atrakaJ\n"
     ]
    }
   ],
   "source": [
    "# Kerjakan disini\n",
    "\n",
    "# Jangan hapus kode di bawah ini \n",
    "%reset -f\n",
    "\n",
    "# string\n",
    "str = \"Jakarta\"\n",
    "# reverse\n",
    "result = str[::-1]\n",
    "print(result)"
   ]
  },
  {
   "cell_type": "markdown",
   "metadata": {},
   "source": [
    "## Operator Bitwise"
   ]
  },
  {
   "cell_type": "markdown",
   "metadata": {},
   "source": [
    "Buat ulang kode program di bawah ini!\n",
    "![](./images/04_operatorBitwise.png)\n",
    "Kemudian jalankan program yang dibuat."
   ]
  },
  {
   "cell_type": "code",
   "execution_count": 3,
   "metadata": {},
   "outputs": [
    {
     "name": "stdout",
     "output_type": "stream",
     "text": [
      "a & b = 0\n",
      "a | b = 14\n",
      "~a = -11\n",
      "a ^ b = 14\n"
     ]
    }
   ],
   "source": [
    "# Kerjakan disini\n",
    "\n",
    "# Jangan hapus kode di bawah ini \n",
    "%reset -f\n",
    "\n",
    "a = 10\n",
    "b = 4\n",
    "\n",
    "# Print bitwise AND operation\n",
    "print(\"a & b =\", a & b)\n",
    "\n",
    "# Print bitwise OR operation\n",
    "print(\"a | b =\", a | b)\n",
    "\n",
    "# Print bitwise NOT operation\n",
    "print(\"~a =\", ~a)\n",
    "\n",
    "# Print bitwise AND operation\n",
    "print(\"a ^ b =\", a ^ b)"
   ]
  },
  {
   "cell_type": "markdown",
   "metadata": {},
   "source": [
    "### Membuat kode\n",
    "Untuk sebuah skenario berikut, tulis program pada Cell Python dibawah.\n",
    "\n",
    "Untuk mendaftar kursus online, calon peserta harus berusia minimal 21 tahun dan telah lulus tes substansi. Pengguna akan ditanyai pertanyaan-pertanyaan berikut:\n",
    "1. Berapa usia anda?\n",
    "2. Apakah anda lulus tes substansi (Y/T)?\n",
    "\n",
    "Tanggapan/response dari pertanyaan berupa string berikut:\n",
    "1. “Anda dapat mendaftar di kursus.”, atau\n",
    "2. “Anda tidak dapat mendaftar di kursus.”"
   ]
  },
  {
   "cell_type": "code",
   "execution_count": 1,
   "metadata": {},
   "outputs": [
    {
     "name": "stdout",
     "output_type": "stream",
     "text": [
      "Anda dapat mendaftar di kursus.\n"
     ]
    }
   ],
   "source": [
    "#Buat kode disini\n",
    "Usia = int(input(\"Berapa usia anda\"))\n",
    "Lulus_tes_substansi = str(input(\"Apakah anda lulus tes substansi (Y/T)?\"))\n",
    "if Usia >= 21:\n",
    "    if Lulus_tes_substansi == \"Y\":\n",
    "        print(\"Anda dapat mendaftar di kursus.\")\n",
    "    else:\n",
    "        print('Anda tidak dapat mendaftar di kursus')\n",
    "else:\n",
    "    print(\"Anda tidak dapat mendaftar di kursus\")"
   ]
  },
  {
   "cell_type": "markdown",
   "metadata": {},
   "source": [
    "### Cara Pengumpulan\n",
    "\n",
    "1. Buka *New Terminal*\n",
    "2. Pastikan *path* Terminal adalah folder repositori kalian (NIM-Nama-Prokom).\n",
    "3. Tambahkan file yang akan ditrack dengan `git add <nama file>`. Nama file bisa diubah . (titik) yang artinya semua file dalam folder akan ditrack.\n",
    "4. Lakukan commit perubahan dengan `git commit -m <deskripsi>`.\n",
    "5. Lakukan push dengan `git push -u origin <nama branch>`. Nama branch dapat diketahui dengan `git branch`.\n",
    "6. Pastikan Exercise-02 telah terupload dan dapat diakses di repositori dengan mengaksesnya di browser."
   ]
  },
  {
   "cell_type": "markdown",
   "metadata": {},
   "source": [
    "***\n",
    "<h1 align=\"center\">Well Done!!!</h1>\n",
    "\n",
    "***"
   ]
  }
 ],
 "metadata": {
  "interpreter": {
   "hash": "ac59ebe37160ed0dfa835113d9b8498d9f09ceb179beaac4002f036b9467c963"
  },
  "kernelspec": {
   "display_name": "Python 3.9.8 64-bit",
   "language": "python",
   "name": "python3"
  },
  "language_info": {
   "codemirror_mode": {
    "name": "ipython",
    "version": 3
   },
   "file_extension": ".py",
   "mimetype": "text/x-python",
   "name": "python",
   "nbconvert_exporter": "python",
   "pygments_lexer": "ipython3",
   "version": "3.9.7"
  },
  "orig_nbformat": 4
 },
 "nbformat": 4,
 "nbformat_minor": 2
}
